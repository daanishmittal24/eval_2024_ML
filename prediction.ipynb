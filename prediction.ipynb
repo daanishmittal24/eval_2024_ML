{
 "cells": [
  {
   "cell_type": "code",
   "execution_count": 1,
   "metadata": {},
   "outputs": [
    {
     "name": "stdout",
     "output_type": "stream",
     "text": [
      "     F1    F2    F3     F4      F5    F6     F7     F8   F9   F10      F11  \\\n",
      "0  52.9  1.33  49.1  37.13  129.43  35.0  0.281  112.7  207  0.55   98.971   \n",
      "1  87.6  2.12  48.8  42.10  171.07  37.6  0.153  157.4  188  0.86  101.179   \n",
      "2  73.3  2.72  93.8  20.11  163.69  44.3  0.367  348.7  270  1.87   98.919   \n",
      "3  65.6  2.58  48.1  35.11   63.37  32.5  0.279  321.2  322  1.75  101.560   \n",
      "4  39.6  2.58  49.3  32.93   63.40  47.0  0.149  205.6  203  1.55   98.148   \n",
      "\n",
      "    F12   F13   F14   F15  Target1  Target2  Target3  Target4  Target5  \n",
      "0  2.87  1362  15.9   429    0.959    1.531     79.3     4.19    33.29  \n",
      "1  2.34  5130  26.1  1819    0.728    1.690     57.2     5.19    34.50  \n",
      "2  2.13  7811  16.7  1763    0.784    1.865     61.6     7.77   129.28  \n",
      "3  2.91  1641  32.1   203    0.884    1.920     71.3     8.40   186.65  \n",
      "4  1.93  7648  27.5   276    0.736    1.711     58.5     4.75    52.32  \n"
     ]
    }
   ],
   "source": [
    "import pandas as pd\n",
    "\n",
    "file_path = \"fuel.csv\"  # realtive path\n",
    "df = pd.read_csv(file_path)\n",
    "\n",
    "# Display\n",
    "print(df.head())\n"
   ]
  },
  {
   "cell_type": "code",
   "execution_count": 2,
   "metadata": {},
   "outputs": [
    {
     "name": "stdout",
     "output_type": "stream",
     "text": [
      "     F1    F2    F3     F4      F5    F6     F7     F8   F9   F10      F11  \\\n",
      "0  52.9  1.33  49.1  37.13  129.43  35.0  0.281  112.7  207  0.55   98.971   \n",
      "1  87.6  2.12  48.8  42.10  171.07  37.6  0.153  157.4  188  0.86  101.179   \n",
      "2  73.3  2.72  93.8  20.11  163.69  44.3  0.367  348.7  270  1.87   98.919   \n",
      "3  65.6  2.58  48.1  35.11   63.37  32.5  0.279  321.2  322  1.75  101.560   \n",
      "4  39.6  2.58  49.3  32.93   63.40  47.0  0.149  205.6  203  1.55   98.148   \n",
      "\n",
      "    F12   F13   F14   F15  \n",
      "0  2.87  1362  15.9   429  \n",
      "1  2.34  5130  26.1  1819  \n",
      "2  2.13  7811  16.7  1763  \n",
      "3  2.91  1641  32.1   203  \n",
      "4  1.93  7648  27.5   276  \n",
      "0    4.19\n",
      "1    5.19\n",
      "2    7.77\n",
      "3    8.40\n",
      "4    4.75\n",
      "Name: Target4, dtype: float64\n"
     ]
    }
   ],
   "source": [
    "targets_to_drop = [\"Target1\", \"Target2\", \"Target3\", \"Target5\"]\n",
    "df = df.drop(columns=targets_to_drop)\n",
    "\n",
    "X = df.drop(columns=[\"Target4\"])\n",
    "y = df[\"Target4\"]\n",
    "\n",
    "print(X.head())\n",
    "print(y.head())\n"
   ]
  },
  {
   "cell_type": "code",
   "execution_count": 3,
   "metadata": {},
   "outputs": [
    {
     "name": "stdout",
     "output_type": "stream",
     "text": [
      "Training features shape: (700, 15)\n",
      "Test features shape: (300, 15)\n",
      "Training target shape: (700,)\n",
      "Test target shape: (300,)\n"
     ]
    }
   ],
   "source": [
    "from sklearn.model_selection import train_test_split\n",
    "\n",
    "X_train, X_test, y_train, y_test = train_test_split(X, y, test_size=0.3, random_state=42)\n",
    "\n",
    "print(\"Training features shape:\", X_train.shape)\n",
    "print(\"Test features shape:\", X_test.shape)\n",
    "print(\"Training target shape:\", y_train.shape)\n",
    "print(\"Test target shape:\", y_test.shape)\n"
   ]
  },
  {
   "cell_type": "code",
   "execution_count": 4,
   "metadata": {},
   "outputs": [],
   "source": [
    "from sklearn.linear_model import LinearRegression\n",
    "from sklearn.ensemble import RandomForestRegressor, GradientBoostingRegressor\n",
    "from sklearn.svm import SVR\n",
    "from sklearn.linear_model import Ridge, Lasso\n",
    "from sklearn.neighbors import KNeighborsRegressor\n",
    "from sklearn.metrics import mean_squared_error, r2_score\n",
    "import numpy as np\n"
   ]
  },
  {
   "cell_type": "code",
   "execution_count": 5,
   "metadata": {},
   "outputs": [],
   "source": [
    "results = []\n"
   ]
  },
  {
   "cell_type": "code",
   "execution_count": 6,
   "metadata": {},
   "outputs": [],
   "source": [
    "models = {\n",
    "    \"Linear Regression\": LinearRegression(),\n",
    "    \"Ridge Regression\": Ridge(),\n",
    "    \"Lasso Regression\": Lasso(),\n",
    "    \"Random Forest Regressor\": RandomForestRegressor(random_state=42),\n",
    "    \"Gradient Boosting Regressor\": GradientBoostingRegressor(random_state=42),\n",
    "    \"Support Vector Regressor\": SVR(),\n",
    "    \"K-Nearest Neighbors Regressor\": KNeighborsRegressor()\n",
    "}\n"
   ]
  },
  {
   "cell_type": "code",
   "execution_count": 7,
   "metadata": {},
   "outputs": [],
   "source": [
    "for name, model in models.items():\n",
    "    model.fit(X_train, y_train)\n",
    "    y_pred = model.predict(X_test)\n",
    "    \n",
    "    # Evaluate metrics\n",
    "    mse = mean_squared_error(y_test, y_pred)\n",
    "    r2 = r2_score(y_test, y_pred)\n",
    "    \n",
    "    results.append({\"Model\": name, \"MSE\": mse, \"R2 Score\": r2})\n",
    "\n",
    "df2 = pd.DataFrame(results)\n"
   ]
  },
  {
   "cell_type": "code",
   "execution_count": 8,
   "metadata": {},
   "outputs": [
    {
     "data": {
      "text/html": [
       "<style type=\"text/css\">\n",
       "#T_9439f thead th {\n",
       "  background-color: lightblue;\n",
       "  color: black;\n",
       "}\n",
       "</style>\n",
       "<table id=\"T_9439f\">\n",
       "  <thead>\n",
       "    <tr>\n",
       "      <th id=\"T_9439f_level0_col0\" class=\"col_heading level0 col0\" >Model</th>\n",
       "      <th id=\"T_9439f_level0_col1\" class=\"col_heading level0 col1\" >MSE</th>\n",
       "      <th id=\"T_9439f_level0_col2\" class=\"col_heading level0 col2\" >R2 Score</th>\n",
       "    </tr>\n",
       "  </thead>\n",
       "  <tbody>\n",
       "    <tr>\n",
       "      <td id=\"T_9439f_row0_col0\" class=\"data row0 col0\" >Linear Regression</td>\n",
       "      <td id=\"T_9439f_row0_col1\" class=\"data row0 col1\" >4.899193</td>\n",
       "      <td id=\"T_9439f_row0_col2\" class=\"data row0 col2\" >-0.016989</td>\n",
       "    </tr>\n",
       "    <tr>\n",
       "      <td id=\"T_9439f_row1_col0\" class=\"data row1 col0\" >Ridge Regression</td>\n",
       "      <td id=\"T_9439f_row1_col1\" class=\"data row1 col1\" >4.895903</td>\n",
       "      <td id=\"T_9439f_row1_col2\" class=\"data row1 col2\" >-0.016307</td>\n",
       "    </tr>\n",
       "    <tr>\n",
       "      <td id=\"T_9439f_row2_col0\" class=\"data row2 col0\" >Lasso Regression</td>\n",
       "      <td id=\"T_9439f_row2_col1\" class=\"data row2 col1\" >4.935546</td>\n",
       "      <td id=\"T_9439f_row2_col2\" class=\"data row2 col2\" >-0.024536</td>\n",
       "    </tr>\n",
       "    <tr>\n",
       "      <td id=\"T_9439f_row3_col0\" class=\"data row3 col0\" >Random Forest Regressor</td>\n",
       "      <td id=\"T_9439f_row3_col1\" class=\"data row3 col1\" >5.077443</td>\n",
       "      <td id=\"T_9439f_row3_col2\" class=\"data row3 col2\" >-0.053991</td>\n",
       "    </tr>\n",
       "    <tr>\n",
       "      <td id=\"T_9439f_row4_col0\" class=\"data row4 col0\" >Gradient Boosting Regressor</td>\n",
       "      <td id=\"T_9439f_row4_col1\" class=\"data row4 col1\" >5.443308</td>\n",
       "      <td id=\"T_9439f_row4_col2\" class=\"data row4 col2\" >-0.129939</td>\n",
       "    </tr>\n",
       "    <tr>\n",
       "      <td id=\"T_9439f_row5_col0\" class=\"data row5 col0\" >Support Vector Regressor</td>\n",
       "      <td id=\"T_9439f_row5_col1\" class=\"data row5 col1\" >4.937407</td>\n",
       "      <td id=\"T_9439f_row5_col2\" class=\"data row5 col2\" >-0.024922</td>\n",
       "    </tr>\n",
       "    <tr>\n",
       "      <td id=\"T_9439f_row6_col0\" class=\"data row6 col0\" >K-Nearest Neighbors Regressor</td>\n",
       "      <td id=\"T_9439f_row6_col1\" class=\"data row6 col1\" >5.865306</td>\n",
       "      <td id=\"T_9439f_row6_col2\" class=\"data row6 col2\" >-0.217538</td>\n",
       "    </tr>\n",
       "  </tbody>\n",
       "</table>\n"
      ],
      "text/plain": [
       "<pandas.io.formats.style.Styler at 0x1e5366874a0>"
      ]
     },
     "execution_count": 8,
     "metadata": {},
     "output_type": "execute_result"
    }
   ],
   "source": [
    "# Using pandas Styler to style the DataFrame\n",
    "df2.style.set_table_styles([{\n",
    "    'selector': 'thead th',\n",
    "    'props': [('background-color', 'lightblue'), ('color', 'black')]\n",
    "}]).hide(axis=\"index\")\n"
   ]
  },
  {
   "cell_type": "code",
   "execution_count": null,
   "metadata": {},
   "outputs": [],
   "source": []
  }
 ],
 "metadata": {
  "kernelspec": {
   "display_name": "venv",
   "language": "python",
   "name": "python3"
  },
  "language_info": {
   "codemirror_mode": {
    "name": "ipython",
    "version": 3
   },
   "file_extension": ".py",
   "mimetype": "text/x-python",
   "name": "python",
   "nbconvert_exporter": "python",
   "pygments_lexer": "ipython3",
   "version": "3.12.7"
  }
 },
 "nbformat": 4,
 "nbformat_minor": 2
}
